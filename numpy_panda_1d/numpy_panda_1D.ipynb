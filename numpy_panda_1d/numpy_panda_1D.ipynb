{
 "cells": [
  {
   "cell_type": "markdown",
   "metadata": {
    "collapsed": true,
    "deletable": true,
    "editable": true
   },
   "source": [
    "# 5 questions\n",
    "\n",
    "1. 人均GDP是否与平均寿命之间有正相关的关系？\n",
    "2. 男性小学教育完成率与女性小学教育完成率之间随年度发生变化的趋势是怎样的？\n",
    "3. 15岁以上人口就业率与小学完成率之间的关系？\n",
    "4. 15岁以上人口就业率与人均GDP的关系？\n",
    "5. 小学教育完成率的增长对人均GDP的增加是否是有益的？\n",
    "6. 中国的就业率随时间发生怎样的变化？\n",
    "7. 近几年各国最高和最低的就业水平是多少？这些就业水平分别属于哪些国家？中国处于一个什么情况？\n",
    "8. 近几年各国最高和最低的人均GDP是多少？这些人均GDP分别属于哪些国家？中国处于一个什么情况？"
   ]
  },
  {
   "cell_type": "code",
   "execution_count": null,
   "metadata": {
    "collapsed": true
   },
   "outputs": [],
   "source": []
  }
 ],
 "metadata": {
  "kernelspec": {
   "display_name": "Python 2",
   "language": "python",
   "name": "python2"
  },
  "language_info": {
   "codemirror_mode": {
    "name": "ipython",
    "version": 2
   },
   "file_extension": ".py",
   "mimetype": "text/x-python",
   "name": "python",
   "nbconvert_exporter": "python",
   "pygments_lexer": "ipython2",
   "version": "2.7.13"
  }
 },
 "nbformat": 4,
 "nbformat_minor": 2
}

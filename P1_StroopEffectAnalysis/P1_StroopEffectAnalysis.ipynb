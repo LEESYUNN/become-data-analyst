{
 "cells": [
  {
   "cell_type": "markdown",
   "metadata": {},
   "source": [
    "# 一. 问题背景"
   ]
  },
  {
   "cell_type": "markdown",
   "metadata": {},
   "source": [
    "## 1. Stroop效应"
   ]
  },
  {
   "cell_type": "markdown",
   "metadata": {},
   "source": [
    "参考维基百科"
   ]
  },
  {
   "cell_type": "markdown",
   "metadata": {},
   "source": [
    "## 2. 体验Stroop效应"
   ]
  },
  {
   "cell_type": "markdown",
   "metadata": {},
   "source": [
    "# 二. 对Stroop效应的数据分析"
   ]
  },
  {
   "cell_type": "markdown",
   "metadata": {},
   "source": [
    "## 1. 自变量和因变量"
   ]
  },
  {
   "cell_type": "markdown",
   "metadata": {},
   "source": [
    "问题 1：确认试验中的变量 问题回复正确确认了试验中的自变量和因变量"
   ]
  },
  {
   "cell_type": "markdown",
   "metadata": {},
   "source": [
    "## 2. 假设集"
   ]
  },
  {
   "cell_type": "markdown",
   "metadata": {},
   "source": [
    "零假设\n",
    "对立假设\n",
    "数学表达式"
   ]
  },
  {
   "cell_type": "markdown",
   "metadata": {},
   "source": [
    "问题 2a：建立假设 零假设和对立假设均以文字和数学方式进行了明确说明。数学陈述中的符号也进行了定义。"
   ]
  },
  {
   "cell_type": "markdown",
   "metadata": {},
   "source": [
    "## 3. 统计检验模型"
   ]
  },
  {
   "cell_type": "markdown",
   "metadata": {},
   "source": [
    "相依样本t检验，理由是总体参数未知，且样本数据容量足够大，这样总体是否满足正态分布影响不大。\n",
    "参考OpenIntro Statistics"
   ]
  },
  {
   "cell_type": "markdown",
   "metadata": {},
   "source": [
    "问题 2b：建立统计检验 通过统计检验来辩证提出的假设，并针对统计检验的假设前提进行说明"
   ]
  },
  {
   "cell_type": "markdown",
   "metadata": {},
   "source": [
    "## 4. 描述性统计"
   ]
  },
  {
   "cell_type": "markdown",
   "metadata": {},
   "source": [
    "集中趋势：众数，中位数，平均值\n",
    "变异趋势：样本方差，样本标准差"
   ]
  },
  {
   "cell_type": "markdown",
   "metadata": {},
   "source": [
    "问题 3：报告描述性统计分析 为数据集组计算了描述性统计分析，包括至少一项中心性测量和一项可变性测量。"
   ]
  },
  {
   "cell_type": "markdown",
   "metadata": {},
   "source": [
    "## 5. 可视化"
   ]
  },
  {
   "cell_type": "markdown",
   "metadata": {},
   "source": [
    "样本数据分布的可视化，说明观察到的结果"
   ]
  },
  {
   "cell_type": "markdown",
   "metadata": {},
   "source": [
    "问题 4：绘制数据图 创建了展示数据的一项或两项可视化，包括用注释说明图中可观察到的信息。"
   ]
  },
  {
   "cell_type": "markdown",
   "metadata": {},
   "source": [
    "## 6. 对样本数据进行t检验"
   ]
  },
  {
   "cell_type": "markdown",
   "metadata": {},
   "source": [
    "自由度\n",
    "样本大小\n",
    "置信水平：t临界值\n",
    "t统计量\n",
    "P值\n",
    "样本标准差\n",
    "样本标准误差\n",
    "平均值\n",
    "平均值差\n",
    "Cohen's d\n",
    "r方，结论\n",
    "误差边界\n",
    "置信区间"
   ]
  },
  {
   "cell_type": "markdown",
   "metadata": {},
   "source": [
    "问题 5：执行统计检验并解读结果 正确执行并报告了一项统计检验，包括检验统计量、P值和检验结果。检验结果针对执行的试验任务进行了解释。"
   ]
  },
  {
   "cell_type": "markdown",
   "metadata": {},
   "source": [
    "# 三. 结论"
   ]
  },
  {
   "cell_type": "markdown",
   "metadata": {},
   "source": [
    "是否具有统计显著性？能否拒绝零假设？最终定论是？"
   ]
  },
  {
   "cell_type": "markdown",
   "metadata": {},
   "source": [
    "解释观察到的效应的原因，类似效应的替代或类似任务"
   ]
  },
  {
   "cell_type": "markdown",
   "metadata": {},
   "source": [
    "问题 6：更深入探索和扩展调查 对所观察效应的原因做了假设。提供了 所执行的 Stroop 任务的扩展或相关试验，这可能会得到类似的效应。"
   ]
  }
 ],
 "metadata": {
  "kernelspec": {
   "display_name": "Python 2",
   "language": "python",
   "name": "python2"
  },
  "language_info": {
   "codemirror_mode": {
    "name": "ipython",
    "version": 2
   },
   "file_extension": ".py",
   "mimetype": "text/x-python",
   "name": "python",
   "nbconvert_exporter": "python",
   "pygments_lexer": "ipython2",
   "version": "2.7.13"
  }
 },
 "nbformat": 4,
 "nbformat_minor": 2
}

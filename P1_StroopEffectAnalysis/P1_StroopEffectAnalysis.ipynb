{
 "cells": [
  {
   "cell_type": "markdown",
   "metadata": {
    "deletable": true,
    "editable": true
   },
   "source": [
    "# 有关Stroop效应的数据分析报告"
   ]
  },
  {
   "cell_type": "markdown",
   "metadata": {
    "deletable": true,
    "editable": true
   },
   "source": [
    "## 一. 问题背景"
   ]
  },
  {
   "cell_type": "markdown",
   "metadata": {
    "deletable": true,
    "editable": true
   },
   "source": [
    "### 1. Stroop效应"
   ]
  },
  {
   "cell_type": "markdown",
   "metadata": {
    "deletable": true,
    "editable": true
   },
   "source": [
    "维基百科对“Stroop效应”的解释为：\n",
    "\n",
    "> \"斯特鲁普效应(Stroop effect)是指在心理学中干扰对反应时间影响的实验。这是1935年实验心理学家史楚普（John Ridley Stroop）所提出的著名的发现之一，指出环境刺激物理的各项特征，如果相融，则会使辨识加速，反应时间缩短；但若互不相融，则会造成干扰，使反应时间拉长。例如当测试者被要求说出某个颜色和其字面意义不符的词语时，被测者往往会反应速度下降，出错率上升。\"\n",
    "\n",
    "本数据分析报告对一份样本容量为25的测试样本进行相关的假设检验研究。"
   ]
  },
  {
   "cell_type": "markdown",
   "metadata": {
    "deletable": true,
    "editable": true
   },
   "source": [
    "### 2. 体验Stroop效应"
   ]
  },
  {
   "cell_type": "markdown",
   "metadata": {
    "deletable": true,
    "editable": true
   },
   "source": [
    "通过实验指导文档中提供的连接进行了一次Stroop测试，在一致条件下使用的时间为**18.655s**，在不一致条件下使用的时间为**38.823s**。"
   ]
  },
  {
   "cell_type": "markdown",
   "metadata": {
    "deletable": true,
    "editable": true
   },
   "source": [
    "## 二. 对Stroop效应的数据分析"
   ]
  },
  {
   "cell_type": "markdown",
   "metadata": {
    "deletable": true,
    "editable": true
   },
   "source": [
    "### 1. 自变量和因变量"
   ]
  },
  {
   "cell_type": "markdown",
   "metadata": {
    "deletable": true,
    "editable": true
   },
   "source": [
    "实验中的自变量为不同类型的测试条件，包括一致性测试条件（字面意思与颜色一致）和不一致性测试条件（字面意思与颜色不一致）；因变量为完成该测试需要花费的时间（单位：秒）。"
   ]
  },
  {
   "cell_type": "markdown",
   "metadata": {
    "deletable": true,
    "editable": true
   },
   "source": [
    "### 2. 假设集"
   ]
  },
  {
   "cell_type": "markdown",
   "metadata": {
    "deletable": true,
    "editable": true
   },
   "source": [
    "用$\\mu_I$表示在不一致条件下进行测试所花平均时间，用$\\mu_C$表示在一致条件下进行测试所花平均时间，故：\n",
    "\n",
    "$H_0$：不一致条件下进行测试所花平均时间与在一致条件下进行测试所花平均时间并无差异，即$\\mu_I = \\mu_C$；\n",
    "\n",
    "$H_a$：不一致条件下进行测试所花平均时间与在一致条件下进行测试所花平均时间有显著的不同，即$\\mu_I \\neq \\mu_C$。"
   ]
  },
  {
   "cell_type": "code",
   "execution_count": 2,
   "metadata": {
    "collapsed": true,
    "deletable": true,
    "editable": true
   },
   "outputs": [],
   "source": [
    "import pandas as pd\n",
    "import matplotlib.pyplot as plt\n",
    "%matplotlib inline"
   ]
  },
  {
   "cell_type": "markdown",
   "metadata": {
    "deletable": true,
    "editable": true
   },
   "source": [
    "### 3. 统计检验模型"
   ]
  },
  {
   "cell_type": "markdown",
   "metadata": {
    "deletable": true,
    "editable": true
   },
   "source": [
    "该心理学实验是对同一受测者依次进行两种条件下的测试，然后分别记录其所花费的时间。由于两种测试之间有一种相互依赖的关系，且总体的参数未知，对这样的数据进行假设检验，第一判断是采用相依样本t-检验。但是在下结论之前，先来看看样本数据分布的直方图："
   ]
  },
  {
   "cell_type": "code",
   "execution_count": 3,
   "metadata": {
    "collapsed": false,
    "deletable": true,
    "editable": true
   },
   "outputs": [
    {
     "data": {
      "text/plain": [
       "array([[<matplotlib.axes._subplots.AxesSubplot object at 0x7f345010f290>,\n",
       "        <matplotlib.axes._subplots.AxesSubplot object at 0x7f344cd9f190>]], dtype=object)"
      ]
     },
     "execution_count": 3,
     "metadata": {},
     "output_type": "execute_result"
    },
    {
     "data": {
      "image/png": "[encoded data removed]",
      "text/plain": [
       "<matplotlib.figure.Figure at 0x7f34503cfa10>"
      ]
     },
     "metadata": {},
     "output_type": "display_data"
    }
   ],
   "source": [
    "data = pd.read_csv('stroopdata.csv')\n",
    "data.hist(bins=30)"
   ]
  },
  {
   "cell_type": "markdown",
   "metadata": {
    "deletable": true,
    "editable": true
   },
   "source": [
    "从直方图中可以观察到，样本数据的分布**近似满足正态分布的形状**，加之我们对**两种条件下实验数据的测试是相互独立的**，因此满足使用t-分布的条件，所以决定对样本数据进行上述检验。"
   ]
  },
  {
   "cell_type": "markdown",
   "metadata": {
    "deletable": true,
    "editable": true
   },
   "source": [
    "参考资料：[OpenIntro Statistics](https://www.openintro.org/stat/)，3rd，Chapter 5 Inference for numerical data，对t-分布使用前提条件的说明。"
   ]
  },
  {
   "cell_type": "markdown",
   "metadata": {
    "deletable": true,
    "editable": true
   },
   "source": [
    "### 4. 描述性统计"
   ]
  },
  {
   "cell_type": "code",
   "execution_count": 4,
   "metadata": {
    "collapsed": false,
    "deletable": true,
    "editable": true
   },
   "outputs": [
    {
     "name": "stdout",
     "output_type": "stream",
     "text": [
      "Mean:\n",
      "Congruent      14.051125\n",
      "Incongruent    22.015917\n",
      "dtype: float64\n",
      "\n",
      "Median:\n",
      "Congruent      14.3565\n",
      "Incongruent    21.0175\n",
      "dtype: float64\n"
     ]
    }
   ],
   "source": [
    "print('Mean:')\n",
    "print(data.mean())\n",
    "print('\\nMedian:')\n",
    "print(data.median())"
   ]
  },
  {
   "cell_type": "markdown",
   "metadata": {
    "deletable": true,
    "editable": true
   },
   "source": [
    "样本均值：$\\bar{x}_C=14.051125$，$\\bar{x}_I=22.015917$。\n",
    "\n",
    "一致性条件下样本数据中位数为14.3565，不一致条件下样本数据中位数为21.0175。\n",
    "\n",
    "样本标准差$s_C=3.559358$，$s_I=4.797057$。\n",
    "\n",
    "从这些数据上看，不一致条件下测试花费的时间要比一致条件下高。真的是这样吗？让我们通过柱状图来看一下两类测试数据的对比情况："
   ]
  },
  {
   "cell_type": "code",
   "execution_count": 5,
   "metadata": {
    "collapsed": false,
    "deletable": true,
    "editable": true
   },
   "outputs": [
    {
     "data": {
      "text/plain": [
       "<matplotlib.axes._subplots.AxesSubplot at 0x7f344cbac4d0>"
      ]
     },
     "execution_count": 5,
     "metadata": {},
     "output_type": "execute_result"
    },
    {
     "data": {
      "image/png": "[encoded data removed]",
      "text/plain": [
       "<matplotlib.figure.Figure at 0x7f344cb38bd0>"
      ]
     },
     "metadata": {},
     "output_type": "display_data"
    }
   ],
   "source": [
    "data.plot.bar()"
   ]
  },
  {
   "cell_type": "markdown",
   "metadata": {
    "deletable": true,
    "editable": true
   },
   "source": [
    "从上图可以明显看出，不一致条件下进行测试所消耗的时间，无一例外都比一致条件下要高，有的甚至高了很多。"
   ]
  },
  {
   "cell_type": "markdown",
   "metadata": {
    "deletable": true,
    "editable": true
   },
   "source": [
    "### 6. 对样本数据进行t检验"
   ]
  },
  {
   "cell_type": "markdown",
   "metadata": {},
   "source": [
    "对总体均值差的点估计，为$$\\mu_C-\\mu_I=\\bar{x}_C-\\bar{x}_I=14.051125-22.015917=−7.964792$$\n"
   ]
  },
  {
   "cell_type": "code",
   "execution_count": 7,
   "metadata": {
    "collapsed": false
   },
   "outputs": [
    {
     "data": {
      "text/plain": [
       "4.864826910359056"
      ]
     },
     "execution_count": 7,
     "metadata": {},
     "output_type": "execute_result"
    }
   ],
   "source": [
    "(data['Congruent']-data['Incongruent']).std()"
   ]
  },
  {
   "cell_type": "markdown",
   "metadata": {},
   "source": [
    "然后对样本数据的差值求标准差，得到$s=23.33089025215998$，t统计量为$t=\\frac{\\mu_C-\\mu_I}{s/\\sqrt{n}}=−8.02070728$，P值$\\le0.0001$，对自由度为23，$\\alpha=0.05$而言，置信区间为[-10.02, -5.91]，其t临界值为$t_{critical}=\\pm 2.069$，由于t统计量位于t临界区中，所以在这个情况下我们**应当拒绝零假设**，即该均值的差在$\\alpha$为.05水平下具有统计显著性。"
   ]
  },
  {
   "cell_type": "markdown",
   "metadata": {
    "deletable": true,
    "editable": true
   },
   "source": [
    "问题 5：执行统计检验并解读结果 正确执行并报告了一项统计检验，包括检验统计量、P值和检验结果。检验结果针对执行的试验任务进行了解释。"
   ]
  },
  {
   "cell_type": "markdown",
   "metadata": {
    "deletable": true,
    "editable": true
   },
   "source": [
    "## 三. 结论"
   ]
  },
  {
   "cell_type": "markdown",
   "metadata": {
    "deletable": true,
    "editable": true
   },
   "source": [
    "是否具有统计显著性？能否拒绝零假设？最终定论是？"
   ]
  },
  {
   "cell_type": "markdown",
   "metadata": {
    "deletable": true,
    "editable": true
   },
   "source": [
    "解释观察到的效应的原因，类似效应的替代或类似任务"
   ]
  },
  {
   "cell_type": "markdown",
   "metadata": {
    "deletable": true,
    "editable": true
   },
   "source": [
    "问题 6：更深入探索和扩展调查 对所观察效应的原因做了假设。提供了 所执行的 Stroop 任务的扩展或相关试验，这可能会得到类似的效应。"
   ]
  }
 ],
 "metadata": {
  "kernelspec": {
   "display_name": "Python 2",
   "language": "python",
   "name": "python2"
  },
  "language_info": {
   "codemirror_mode": {
    "name": "ipython",
    "version": 2
   },
   "file_extension": ".py",
   "mimetype": "text/x-python",
   "name": "python",
   "nbconvert_exporter": "python",
   "pygments_lexer": "ipython2",
   "version": "2.7.13"
  }
 },
 "nbformat": 4,
 "nbformat_minor": 2
}

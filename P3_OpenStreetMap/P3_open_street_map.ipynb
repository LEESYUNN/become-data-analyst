{
 "cells": [
  {
   "cell_type": "markdown",
   "metadata": {},
   "source": [
    "# 一. 分析区域简介\n",
    "\n",
    "包含你在项目中整理的地图位置的链接、对该地区的简短描述以及你做出选择的原因。给出区域png图片。"
   ]
  },
  {
   "cell_type": "markdown",
   "metadata": {},
   "source": [
    "# 二. 数据整理\n",
    "\n",
    "记录数据整理中遇到的问题，对数据质量进行评估，包括：有效性，精确性，完整性，一致性和统一性。"
   ]
  },
  {
   "cell_type": "markdown",
   "metadata": {},
   "source": [
    "# 三. 数据概况和探索"
   ]
  },
  {
   "cell_type": "markdown",
   "metadata": {},
   "source": [
    "# 四. 数据改进建议"
   ]
  },
  {
   "cell_type": "markdown",
   "metadata": {},
   "source": [
    "# 五. 结论"
   ]
  },
  {
   "cell_type": "markdown",
   "metadata": {
    "collapsed": true
   },
   "source": [
    "# 代码功能性\n",
    "\n",
    "## 代码是否发挥期望的功能？\n",
    "最终项目代码的功能性与项目文件中描述的一致。\n",
    "\n",
    "# 项目可读性\n",
    "\n",
    "## 项目是否使用良好的编码实践？\n",
    "最终项目代码遵从直观、易于跟进的逻辑结构。\n",
    "\n",
    "## 代码的注释是否有用且无赘言？\n",
    "最终项目代码直观可读，且标有清晰注释。\n",
    "\n",
    "# 你的地图中遇到的问题\n",
    "\n",
    "## 项目是否记录了数据整理中遇到的挑战？\n",
    "学生的回复表现出对审计过程、纠正或规范化数据方式的理解，包括应对特定于位置的问题，例如与语言或传统格式化方式相关。\n",
    "\n",
    "## 数据是否通过编程进行了清理？\n",
    "数据审计中遇到的某些问题通过编程进行了清理。\n",
    "\n",
    "# 数据概述\n",
    "\n",
    "## OSM XML 是否足够大？\n",
    "OSM XML 未压缩时至少有 50 MB。\n",
    "\n",
    "## 是否计算了数据集的概述统计？\n",
    "使用了数据库查询来提供数据库的统计概述，如：\n",
    "\n",
    "* 文件大小\n",
    "* 唯一用户的数量\n",
    "* 节点和途径的数量\n",
    "* 所选节点类型（如：咖啡店、商店等）的数量\n",
    "\n",
    "此外，还计算了不在上述列表中的统计数据。对于 SQL 提交，某些查询使用超过一个表。\n",
    "\n",
    "## 是否对数据库查询进行了书面记录？\n",
    "提交文件包含上述数据库查询及统计数据。\n",
    "\n",
    "# 关于数据集的其他想法\n",
    "\n",
    "## 是否包含额外改进建议？\n",
    "提交文件包含一个或多个用于改进或分析数据的额外建议。\n",
    "\n",
    "## 是否讨论了额外改进的益处和问题？\n",
    "提交文件中详尽地讨论了实施改进的益处及一些预期的问题。\n",
    "\n",
    "# 提交的全面性和简洁性\n",
    "\n",
    "## 提交是否足够长，能够全面回答提出的问题？\n",
    "提交文件足够长，能够全面回答所提出的问题，同时未给予不必要的细节。一般的良好准则是问题回复的长度在 3 到 6 页之间。"
   ]
  },
  {
   "cell_type": "code",
   "execution_count": null,
   "metadata": {
    "collapsed": true
   },
   "outputs": [],
   "source": []
  }
 ],
 "metadata": {
  "kernelspec": {
   "display_name": "Python 2",
   "language": "python",
   "name": "python2"
  },
  "language_info": {
   "codemirror_mode": {
    "name": "ipython",
    "version": 2
   },
   "file_extension": ".py",
   "mimetype": "text/x-python",
   "name": "python",
   "nbconvert_exporter": "python",
   "pygments_lexer": "ipython2",
   "version": "2.7.13"
  }
 },
 "nbformat": 4,
 "nbformat_minor": 2
}

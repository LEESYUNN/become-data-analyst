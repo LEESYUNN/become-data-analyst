{
 "cells": [
  {
   "cell_type": "markdown",
   "metadata": {
    "deletable": true,
    "editable": true
   },
   "source": [
    "# 一. 重返泰坦尼克号\n",
    "\n",
    "本次数据分析的对象是泰坦尼克号数据，包括泰坦尼克号上2224名乘客和船员中891名的人口学数据和乘客基本信息，由Kaggle网站提供。下表中展示了前5条数据的基本情况："
   ]
  },
  {
   "cell_type": "code",
   "execution_count": 1,
   "metadata": {
    "collapsed": false,
    "deletable": true,
    "editable": true
   },
   "outputs": [],
   "source": [
    "import pandas as pd\n",
    "import numpy as np\n",
    "import matplotlib.pyplot as plt\n",
    "import seaborn as sns\n",
    "from IPython.display import display\n",
    "%matplotlib inline"
   ]
  },
  {
   "cell_type": "code",
   "execution_count": 2,
   "metadata": {
    "collapsed": false,
    "deletable": true,
    "editable": true
   },
   "outputs": [
    {
     "data": {
      "text/html": [
       "<div>\n",
       "<table border=\"1\" class=\"dataframe\">\n",
       "  <thead>\n",
       "    <tr style=\"text-align: right;\">\n",
       "      <th></th>\n",
       "      <th>PassengerId</th>\n",
       "      <th>Survived</th>\n",
       "      <th>Pclass</th>\n",
       "      <th>Name</th>\n",
       "      <th>Sex</th>\n",
       "      <th>Age</th>\n",
       "      <th>SibSp</th>\n",
       "      <th>Parch</th>\n",
       "      <th>Ticket</th>\n",
       "      <th>Fare</th>\n",
       "      <th>Cabin</th>\n",
       "      <th>Embarked</th>\n",
       "    </tr>\n",
       "  </thead>\n",
       "  <tbody>\n",
       "    <tr>\n",
       "      <th>0</th>\n",
       "      <td>1</td>\n",
       "      <td>0</td>\n",
       "      <td>3</td>\n",
       "      <td>Braund, Mr. Owen Harris</td>\n",
       "      <td>male</td>\n",
       "      <td>22.0</td>\n",
       "      <td>1</td>\n",
       "      <td>0</td>\n",
       "      <td>A/5 21171</td>\n",
       "      <td>7.2500</td>\n",
       "      <td>NaN</td>\n",
       "      <td>S</td>\n",
       "    </tr>\n",
       "    <tr>\n",
       "      <th>1</th>\n",
       "      <td>2</td>\n",
       "      <td>1</td>\n",
       "      <td>1</td>\n",
       "      <td>Cumings, Mrs. John Bradley (Florence Briggs Th...</td>\n",
       "      <td>female</td>\n",
       "      <td>38.0</td>\n",
       "      <td>1</td>\n",
       "      <td>0</td>\n",
       "      <td>PC 17599</td>\n",
       "      <td>71.2833</td>\n",
       "      <td>C85</td>\n",
       "      <td>C</td>\n",
       "    </tr>\n",
       "    <tr>\n",
       "      <th>2</th>\n",
       "      <td>3</td>\n",
       "      <td>1</td>\n",
       "      <td>3</td>\n",
       "      <td>Heikkinen, Miss. Laina</td>\n",
       "      <td>female</td>\n",
       "      <td>26.0</td>\n",
       "      <td>0</td>\n",
       "      <td>0</td>\n",
       "      <td>STON/O2. 3101282</td>\n",
       "      <td>7.9250</td>\n",
       "      <td>NaN</td>\n",
       "      <td>S</td>\n",
       "    </tr>\n",
       "    <tr>\n",
       "      <th>3</th>\n",
       "      <td>4</td>\n",
       "      <td>1</td>\n",
       "      <td>1</td>\n",
       "      <td>Futrelle, Mrs. Jacques Heath (Lily May Peel)</td>\n",
       "      <td>female</td>\n",
       "      <td>35.0</td>\n",
       "      <td>1</td>\n",
       "      <td>0</td>\n",
       "      <td>113803</td>\n",
       "      <td>53.1000</td>\n",
       "      <td>C123</td>\n",
       "      <td>S</td>\n",
       "    </tr>\n",
       "    <tr>\n",
       "      <th>4</th>\n",
       "      <td>5</td>\n",
       "      <td>0</td>\n",
       "      <td>3</td>\n",
       "      <td>Allen, Mr. William Henry</td>\n",
       "      <td>male</td>\n",
       "      <td>35.0</td>\n",
       "      <td>0</td>\n",
       "      <td>0</td>\n",
       "      <td>373450</td>\n",
       "      <td>8.0500</td>\n",
       "      <td>NaN</td>\n",
       "      <td>S</td>\n",
       "    </tr>\n",
       "  </tbody>\n",
       "</table>\n",
       "</div>"
      ],
      "text/plain": [
       "   PassengerId  Survived  Pclass  \\\n",
       "0            1         0       3   \n",
       "1            2         1       1   \n",
       "2            3         1       3   \n",
       "3            4         1       1   \n",
       "4            5         0       3   \n",
       "\n",
       "                                                Name     Sex   Age  SibSp  \\\n",
       "0                            Braund, Mr. Owen Harris    male  22.0      1   \n",
       "1  Cumings, Mrs. John Bradley (Florence Briggs Th...  female  38.0      1   \n",
       "2                             Heikkinen, Miss. Laina  female  26.0      0   \n",
       "3       Futrelle, Mrs. Jacques Heath (Lily May Peel)  female  35.0      1   \n",
       "4                           Allen, Mr. William Henry    male  35.0      0   \n",
       "\n",
       "   Parch            Ticket     Fare Cabin Embarked  \n",
       "0      0         A/5 21171   7.2500   NaN        S  \n",
       "1      0          PC 17599  71.2833   C85        C  \n",
       "2      0  STON/O2. 3101282   7.9250   NaN        S  \n",
       "3      0            113803  53.1000  C123        S  \n",
       "4      0            373450   8.0500   NaN        S  "
      ]
     },
     "execution_count": 2,
     "metadata": {},
     "output_type": "execute_result"
    }
   ],
   "source": [
    "titanic_df = pd.read_csv('titanic-data.csv')\n",
    "titanic_df.head()"
   ]
  },
  {
   "cell_type": "markdown",
   "metadata": {
    "deletable": true,
    "editable": true
   },
   "source": [
    "每个乘客包含12项基本信息：\n",
    "\n",
    "1. PassengerId：乘客唯一ID\n",
    "2. Survived：是否生还，0表示遇难，1表示生还\n",
    "3. Pclass：客舱等级，1表示头等舱，2表示二等舱，3表示下等舱\n",
    "4. Name：乘客姓名\n",
    "5. Sex：性别，男（male）或女（female）\n",
    "6. Age：年龄\n",
    "7. SibSp：同在船上的兄弟姐妹/配偶数量\n",
    "8. Parch：同在船上的双亲/子女数量\n",
    "9. Ticket：票号\n",
    "10. Fare：船票票价\n",
    "11. Cabin：客舱号\n",
    "12. Embarked：登船港口，C = Cherbourg, Q = Queenstown, S = Southampton\n",
    "\n",
    "从表格中展示的基本情况可以看出，有一部分乘客的客舱号数据已经遗失（NaN）。另外根据Kaggle上的说明，乘客的年龄为浮点数，小于1岁的乘客年龄为分数，如果不知道确切年龄，那么乘客的年龄格式为xx.5。sibsp数据忽略了未婚夫/未婚妻关系，parch数据包括了继子/继女关系，一些儿童乘客是跟保姆一起坐船的，对他们而言parch=0。"
   ]
  },
  {
   "cell_type": "markdown",
   "metadata": {
    "deletable": true,
    "editable": true
   },
   "source": [
    "# 二. 感兴趣的问题\n",
    "\n",
    "对于泰坦尼克号数据，我所感兴趣的问题是：\n",
    "\n",
    "1. 乘客汇总统计信息和总体生还情况是怎样的？\n",
    "2. 乘客的年龄分布大致情况，最大年龄和最小年龄是多少？他们是否生还？\n",
    "3. 不同年龄段乘客的生还情况和平均船票花费分别是怎样的？（年龄与生还率之间的关系）\n",
    "4. 不同客舱等级乘客的生还情况和平均船票花费分别是怎样的？（客舱等级与生还率之间的关系）\n",
    "5. 不同性别乘客的生还情况和平均船票花费分别是怎样的？（性别与生还率之间的关系）\n",
    "6. 有多少乘客是带着兄弟姐妹/配偶一同登船的？他们的平均年龄是多少？生还情况如何？（兄弟姐妹/配偶数量与生还率之间的关系）\n",
    "7. 进一步看，带着兄弟姐妹/配偶的男性乘客和带着兄弟姐妹/配偶的女性乘客各自的生还情况分别是怎样的？\n",
    "8. 有多少乘客是带着双亲/子女一同登船的？他们的平均年龄是多少？生还情况如何？（双亲/子女数量与生还率之间的关系）\n",
    "9. 带着双亲/子女的男性乘客和带着双亲/子女的女性乘客生还情况分别是怎样的？\n",
    "10. 有多少儿童乘客（0~15周岁）？性别分布情况如何？他们的生还情况如何？\n",
    "11. 有多少儿童乘客是带着父母一同登船的？他们的生还情况如何？\n",
    "12. 有多少儿童乘客是跟着保姆一起登船的？他们的生还情况如何？\n",
    "13. 登船的港口和生还率之间会不会存在一定相关性？"
   ]
  },
  {
   "cell_type": "markdown",
   "metadata": {
    "deletable": true,
    "editable": true
   },
   "source": [
    "# 三. 对数据进行整理"
   ]
  },
  {
   "cell_type": "code",
   "execution_count": 3,
   "metadata": {
    "collapsed": false,
    "deletable": true,
    "editable": true
   },
   "outputs": [
    {
     "name": "stdout",
     "output_type": "stream",
     "text": [
      "# of rows: 891; # of unique passengers: 891\n",
      "\n",
      "investigate the missing data of each columns:\n",
      "             missing percentage(%)\n",
      "PassengerId        0          0.0%\n",
      "Survived           0          0.0%\n",
      "Pclass             0          0.0%\n",
      "Name               0          0.0%\n",
      "Sex                0          0.0%\n",
      "Age              177        19.87%\n",
      "SibSp              0          0.0%\n",
      "Parch              0          0.0%\n",
      "Ticket             0          0.0%\n",
      "Fare               0          0.0%\n",
      "Cabin            687         77.1%\n",
      "Embarked           2         0.22%\n",
      "\n",
      "investigating Pclass\n",
      "[1, 2, 3]\n",
      "\n",
      "investigating Sex\n",
      "['male', 'female']\n",
      "\n",
      "investigating Embarked\n",
      "['Q', 'C', 'S']\n"
     ]
    }
   ],
   "source": [
    "# check whether number of rows and unique number of passengers match\n",
    "num_of_rows = len(titanic_df['PassengerId'])\n",
    "num_of_uniq = len(titanic_df['PassengerId'].unique())\n",
    "print('# of rows: {}; # of unique passengers: {}\\n'.format(num_of_rows, num_of_uniq))\n",
    "\n",
    "print('investigate the missing data of each columns:')\n",
    "missing = titanic_df.isnull().sum()\n",
    "ratio = titanic_df.isnull().sum() / len(titanic_df)\n",
    "round_ratio = ratio.apply(lambda x: str(round(x, 4) * 100) + '%')\n",
    "print(pd.concat([missing.rename('missing'), round_ratio.rename('percentage(%)')], axis='columns'))\n",
    "\n",
    "print('\\ninvestigating Pclass')\n",
    "print(titanic_df.groupby('Pclass').groups.keys())\n",
    "\n",
    "print('\\ninvestigating Sex')\n",
    "print(titanic_df.groupby('Sex').groups.keys())\n",
    "\n",
    "print('\\ninvestigating Embarked')\n",
    "print(titanic_df.groupby('Embarked').groups.keys())"
   ]
  },
  {
   "cell_type": "markdown",
   "metadata": {
    "deletable": true,
    "editable": true
   },
   "source": [
    "从以上对数据的初步调查可以看出，数据集的行数与乘客的数量相等，也就是说**不存在重复的数据**。然而年龄、客舱和登船港口数据存在缺失。有177名乘客的年龄数据缺失，占比19.87%，那么**在进行针对年龄的数据分析时必须把这部分数据筛除，否则势必影响结论的可靠性**；有687项数据缺失了客舱信息，占比77.1%，是数据缺失的重灾区，好在这对后面要进行的数据分析不存在影响：我们只需要知道客舱的等级就好，不需要知道具体客舱号，客舱等级数据不存在缺失。登陆港口只有两项数据是缺失的，占比不大，因此对结论的影响较小。最后，检查了一下客舱等级，性别和登陆港口数据，因为这些数据是有限取值范围的枚举值，检查下有没有错误数据，**结论是没有**。"
   ]
  },
  {
   "cell_type": "code",
   "execution_count": 4,
   "metadata": {
    "collapsed": false,
    "deletable": true,
    "editable": true
   },
   "outputs": [
    {
     "name": "stdout",
     "output_type": "stream",
     "text": [
      "valid age 714, valid embark 889\n"
     ]
    },
    {
     "data": {
      "text/html": [
       "<div>\n",
       "<table border=\"1\" class=\"dataframe\">\n",
       "  <thead>\n",
       "    <tr style=\"text-align: right;\">\n",
       "      <th></th>\n",
       "      <th>PassengerId</th>\n",
       "      <th>Survived</th>\n",
       "      <th>Pclass</th>\n",
       "      <th>Name</th>\n",
       "      <th>Sex</th>\n",
       "      <th>Age</th>\n",
       "      <th>SibSp</th>\n",
       "      <th>Parch</th>\n",
       "      <th>Ticket</th>\n",
       "      <th>Fare</th>\n",
       "      <th>Embarked</th>\n",
       "    </tr>\n",
       "  </thead>\n",
       "  <tbody>\n",
       "    <tr>\n",
       "      <th>0</th>\n",
       "      <td>1</td>\n",
       "      <td>0</td>\n",
       "      <td>3</td>\n",
       "      <td>Braund, Mr. Owen Harris</td>\n",
       "      <td>male</td>\n",
       "      <td>22.0</td>\n",
       "      <td>1</td>\n",
       "      <td>0</td>\n",
       "      <td>A/5 21171</td>\n",
       "      <td>7.2500</td>\n",
       "      <td>S</td>\n",
       "    </tr>\n",
       "    <tr>\n",
       "      <th>1</th>\n",
       "      <td>2</td>\n",
       "      <td>1</td>\n",
       "      <td>1</td>\n",
       "      <td>Cumings, Mrs. John Bradley (Florence Briggs Th...</td>\n",
       "      <td>female</td>\n",
       "      <td>38.0</td>\n",
       "      <td>1</td>\n",
       "      <td>0</td>\n",
       "      <td>PC 17599</td>\n",
       "      <td>71.2833</td>\n",
       "      <td>C</td>\n",
       "    </tr>\n",
       "    <tr>\n",
       "      <th>2</th>\n",
       "      <td>3</td>\n",
       "      <td>1</td>\n",
       "      <td>3</td>\n",
       "      <td>Heikkinen, Miss. Laina</td>\n",
       "      <td>female</td>\n",
       "      <td>26.0</td>\n",
       "      <td>0</td>\n",
       "      <td>0</td>\n",
       "      <td>STON/O2. 3101282</td>\n",
       "      <td>7.9250</td>\n",
       "      <td>S</td>\n",
       "    </tr>\n",
       "    <tr>\n",
       "      <th>3</th>\n",
       "      <td>4</td>\n",
       "      <td>1</td>\n",
       "      <td>1</td>\n",
       "      <td>Futrelle, Mrs. Jacques Heath (Lily May Peel)</td>\n",
       "      <td>female</td>\n",
       "      <td>35.0</td>\n",
       "      <td>1</td>\n",
       "      <td>0</td>\n",
       "      <td>113803</td>\n",
       "      <td>53.1000</td>\n",
       "      <td>S</td>\n",
       "    </tr>\n",
       "    <tr>\n",
       "      <th>4</th>\n",
       "      <td>5</td>\n",
       "      <td>0</td>\n",
       "      <td>3</td>\n",
       "      <td>Allen, Mr. William Henry</td>\n",
       "      <td>male</td>\n",
       "      <td>35.0</td>\n",
       "      <td>0</td>\n",
       "      <td>0</td>\n",
       "      <td>373450</td>\n",
       "      <td>8.0500</td>\n",
       "      <td>S</td>\n",
       "    </tr>\n",
       "  </tbody>\n",
       "</table>\n",
       "</div>"
      ],
      "text/plain": [
       "   PassengerId  Survived  Pclass  \\\n",
       "0            1         0       3   \n",
       "1            2         1       1   \n",
       "2            3         1       3   \n",
       "3            4         1       1   \n",
       "4            5         0       3   \n",
       "\n",
       "                                                Name     Sex   Age  SibSp  \\\n",
       "0                            Braund, Mr. Owen Harris    male  22.0      1   \n",
       "1  Cumings, Mrs. John Bradley (Florence Briggs Th...  female  38.0      1   \n",
       "2                             Heikkinen, Miss. Laina  female  26.0      0   \n",
       "3       Futrelle, Mrs. Jacques Heath (Lily May Peel)  female  35.0      1   \n",
       "4                           Allen, Mr. William Henry    male  35.0      0   \n",
       "\n",
       "   Parch            Ticket     Fare Embarked  \n",
       "0      0         A/5 21171   7.2500        S  \n",
       "1      0          PC 17599  71.2833        C  \n",
       "2      0  STON/O2. 3101282   7.9250        S  \n",
       "3      0            113803  53.1000        S  \n",
       "4      0            373450   8.0500        S  "
      ]
     },
     "metadata": {},
     "output_type": "display_data"
    },
    {
     "data": {
      "text/html": [
       "<div>\n",
       "<table border=\"1\" class=\"dataframe\">\n",
       "  <thead>\n",
       "    <tr style=\"text-align: right;\">\n",
       "      <th></th>\n",
       "      <th>PassengerId</th>\n",
       "      <th>Survived</th>\n",
       "      <th>Pclass</th>\n",
       "      <th>Name</th>\n",
       "      <th>Sex</th>\n",
       "      <th>Age</th>\n",
       "      <th>SibSp</th>\n",
       "      <th>Parch</th>\n",
       "      <th>Ticket</th>\n",
       "      <th>Fare</th>\n",
       "      <th>Embarked</th>\n",
       "    </tr>\n",
       "  </thead>\n",
       "  <tbody>\n",
       "    <tr>\n",
       "      <th>0</th>\n",
       "      <td>1</td>\n",
       "      <td>0</td>\n",
       "      <td>3</td>\n",
       "      <td>Braund, Mr. Owen Harris</td>\n",
       "      <td>male</td>\n",
       "      <td>22.0</td>\n",
       "      <td>1</td>\n",
       "      <td>0</td>\n",
       "      <td>A/5 21171</td>\n",
       "      <td>7.2500</td>\n",
       "      <td>S</td>\n",
       "    </tr>\n",
       "    <tr>\n",
       "      <th>1</th>\n",
       "      <td>2</td>\n",
       "      <td>1</td>\n",
       "      <td>1</td>\n",
       "      <td>Cumings, Mrs. John Bradley (Florence Briggs Th...</td>\n",
       "      <td>female</td>\n",
       "      <td>38.0</td>\n",
       "      <td>1</td>\n",
       "      <td>0</td>\n",
       "      <td>PC 17599</td>\n",
       "      <td>71.2833</td>\n",
       "      <td>C</td>\n",
       "    </tr>\n",
       "    <tr>\n",
       "      <th>2</th>\n",
       "      <td>3</td>\n",
       "      <td>1</td>\n",
       "      <td>3</td>\n",
       "      <td>Heikkinen, Miss. Laina</td>\n",
       "      <td>female</td>\n",
       "      <td>26.0</td>\n",
       "      <td>0</td>\n",
       "      <td>0</td>\n",
       "      <td>STON/O2. 3101282</td>\n",
       "      <td>7.9250</td>\n",
       "      <td>S</td>\n",
       "    </tr>\n",
       "    <tr>\n",
       "      <th>3</th>\n",
       "      <td>4</td>\n",
       "      <td>1</td>\n",
       "      <td>1</td>\n",
       "      <td>Futrelle, Mrs. Jacques Heath (Lily May Peel)</td>\n",
       "      <td>female</td>\n",
       "      <td>35.0</td>\n",
       "      <td>1</td>\n",
       "      <td>0</td>\n",
       "      <td>113803</td>\n",
       "      <td>53.1000</td>\n",
       "      <td>S</td>\n",
       "    </tr>\n",
       "    <tr>\n",
       "      <th>4</th>\n",
       "      <td>5</td>\n",
       "      <td>0</td>\n",
       "      <td>3</td>\n",
       "      <td>Allen, Mr. William Henry</td>\n",
       "      <td>male</td>\n",
       "      <td>35.0</td>\n",
       "      <td>0</td>\n",
       "      <td>0</td>\n",
       "      <td>373450</td>\n",
       "      <td>8.0500</td>\n",
       "      <td>S</td>\n",
       "    </tr>\n",
       "  </tbody>\n",
       "</table>\n",
       "</div>"
      ],
      "text/plain": [
       "   PassengerId  Survived  Pclass  \\\n",
       "0            1         0       3   \n",
       "1            2         1       1   \n",
       "2            3         1       3   \n",
       "3            4         1       1   \n",
       "4            5         0       3   \n",
       "\n",
       "                                                Name     Sex   Age  SibSp  \\\n",
       "0                            Braund, Mr. Owen Harris    male  22.0      1   \n",
       "1  Cumings, Mrs. John Bradley (Florence Briggs Th...  female  38.0      1   \n",
       "2                             Heikkinen, Miss. Laina  female  26.0      0   \n",
       "3       Futrelle, Mrs. Jacques Heath (Lily May Peel)  female  35.0      1   \n",
       "4                           Allen, Mr. William Henry    male  35.0      0   \n",
       "\n",
       "   Parch            Ticket     Fare Embarked  \n",
       "0      0         A/5 21171   7.2500        S  \n",
       "1      0          PC 17599  71.2833        C  \n",
       "2      0  STON/O2. 3101282   7.9250        S  \n",
       "3      0            113803  53.1000        S  \n",
       "4      0            373450   8.0500        S  "
      ]
     },
     "metadata": {},
     "output_type": "display_data"
    }
   ],
   "source": [
    "titanic_df_age = titanic_df[pd.notnull(titanic_df['Age'])].drop('Cabin', axis=1)\n",
    "titanic_df_embark = titanic_df[pd.notnull(titanic_df['Embarked'])].drop('Cabin', axis=1)\n",
    "print('valid age {}, valid embark {}'.format(len(titanic_df_age), len(titanic_df_embark)))\n",
    "display(titanic_df_age.head())\n",
    "display(titanic_df_embark.head())"
   ]
  },
  {
   "cell_type": "markdown",
   "metadata": {
    "deletable": true,
    "editable": true
   },
   "source": [
    "为方便后面的分析工作，我们对数据进行了清洗。对于后面要进行的有关乘客年龄的数据分析，我们将缺失数据滤除，对登陆港口也做同样处理，由于只需要知道客舱等级而不再需要客舱号，因此顺便将客舱号这列删除。最后打印了一下清洗后的数据进行观察，跟预期的一致，没有问题。"
   ]
  },
  {
   "cell_type": "markdown",
   "metadata": {
    "deletable": true,
    "editable": true
   },
   "source": [
    "# 四. 数据分析"
   ]
  },
  {
   "cell_type": "code",
   "execution_count": 5,
   "metadata": {
    "collapsed": false,
    "deletable": true,
    "editable": true
   },
   "outputs": [
    {
     "data": {
      "text/html": [
       "<div>\n",
       "<table border=\"1\" class=\"dataframe\">\n",
       "  <thead>\n",
       "    <tr style=\"text-align: right;\">\n",
       "      <th></th>\n",
       "      <th>PassengerId</th>\n",
       "      <th>Survived</th>\n",
       "      <th>Pclass</th>\n",
       "      <th>Age</th>\n",
       "      <th>SibSp</th>\n",
       "      <th>Parch</th>\n",
       "      <th>Fare</th>\n",
       "    </tr>\n",
       "  </thead>\n",
       "  <tbody>\n",
       "    <tr>\n",
       "      <th>count</th>\n",
       "      <td>891.000000</td>\n",
       "      <td>891.000000</td>\n",
       "      <td>891.000000</td>\n",
       "      <td>714.000000</td>\n",
       "      <td>891.000000</td>\n",
       "      <td>891.000000</td>\n",
       "      <td>891.000000</td>\n",
       "    </tr>\n",
       "    <tr>\n",
       "      <th>mean</th>\n",
       "      <td>446.000000</td>\n",
       "      <td>0.383838</td>\n",
       "      <td>2.308642</td>\n",
       "      <td>29.699118</td>\n",
       "      <td>0.523008</td>\n",
       "      <td>0.381594</td>\n",
       "      <td>32.204208</td>\n",
       "    </tr>\n",
       "    <tr>\n",
       "      <th>std</th>\n",
       "      <td>257.353842</td>\n",
       "      <td>0.486592</td>\n",
       "      <td>0.836071</td>\n",
       "      <td>14.526497</td>\n",
       "      <td>1.102743</td>\n",
       "      <td>0.806057</td>\n",
       "      <td>49.693429</td>\n",
       "    </tr>\n",
       "    <tr>\n",
       "      <th>min</th>\n",
       "      <td>1.000000</td>\n",
       "      <td>0.000000</td>\n",
       "      <td>1.000000</td>\n",
       "      <td>0.420000</td>\n",
       "      <td>0.000000</td>\n",
       "      <td>0.000000</td>\n",
       "      <td>0.000000</td>\n",
       "    </tr>\n",
       "    <tr>\n",
       "      <th>25%</th>\n",
       "      <td>223.500000</td>\n",
       "      <td>0.000000</td>\n",
       "      <td>2.000000</td>\n",
       "      <td>20.125000</td>\n",
       "      <td>0.000000</td>\n",
       "      <td>0.000000</td>\n",
       "      <td>7.910400</td>\n",
       "    </tr>\n",
       "    <tr>\n",
       "      <th>50%</th>\n",
       "      <td>446.000000</td>\n",
       "      <td>0.000000</td>\n",
       "      <td>3.000000</td>\n",
       "      <td>28.000000</td>\n",
       "      <td>0.000000</td>\n",
       "      <td>0.000000</td>\n",
       "      <td>14.454200</td>\n",
       "    </tr>\n",
       "    <tr>\n",
       "      <th>75%</th>\n",
       "      <td>668.500000</td>\n",
       "      <td>1.000000</td>\n",
       "      <td>3.000000</td>\n",
       "      <td>38.000000</td>\n",
       "      <td>1.000000</td>\n",
       "      <td>0.000000</td>\n",
       "      <td>31.000000</td>\n",
       "    </tr>\n",
       "    <tr>\n",
       "      <th>max</th>\n",
       "      <td>891.000000</td>\n",
       "      <td>1.000000</td>\n",
       "      <td>3.000000</td>\n",
       "      <td>80.000000</td>\n",
       "      <td>8.000000</td>\n",
       "      <td>6.000000</td>\n",
       "      <td>512.329200</td>\n",
       "    </tr>\n",
       "  </tbody>\n",
       "</table>\n",
       "</div>"
      ],
      "text/plain": [
       "       PassengerId    Survived      Pclass         Age       SibSp  \\\n",
       "count   891.000000  891.000000  891.000000  714.000000  891.000000   \n",
       "mean    446.000000    0.383838    2.308642   29.699118    0.523008   \n",
       "std     257.353842    0.486592    0.836071   14.526497    1.102743   \n",
       "min       1.000000    0.000000    1.000000    0.420000    0.000000   \n",
       "25%     223.500000    0.000000    2.000000   20.125000    0.000000   \n",
       "50%     446.000000    0.000000    3.000000   28.000000    0.000000   \n",
       "75%     668.500000    1.000000    3.000000   38.000000    1.000000   \n",
       "max     891.000000    1.000000    3.000000   80.000000    8.000000   \n",
       "\n",
       "            Parch        Fare  \n",
       "count  891.000000  891.000000  \n",
       "mean     0.381594   32.204208  \n",
       "std      0.806057   49.693429  \n",
       "min      0.000000    0.000000  \n",
       "25%      0.000000    7.910400  \n",
       "50%      0.000000   14.454200  \n",
       "75%      0.000000   31.000000  \n",
       "max      6.000000  512.329200  "
      ]
     },
     "metadata": {},
     "output_type": "display_data"
    },
    {
     "name": "stdout",
     "output_type": "stream",
     "text": [
      "number of passengers survived 342 about 38.38%\n"
     ]
    }
   ],
   "source": [
    "display(titanic_df.describe())\n",
    "sum_of_survived = titanic_df['Survived'].sum()\n",
    "survived_ratio = round(sum_of_survived / float(len(titanic_df)), 4) * 100\n",
    "print('number of passengers survived {} about {}%'.format(titanic_df['Survived'].sum(), survived_ratio))"
   ]
  },
  {
   "cell_type": "markdown",
   "metadata": {
    "deletable": true,
    "editable": true
   },
   "source": [
    "## 1. 乘客汇总统计信息和总体生还情况\n",
    "\n",
    "891名乘客平均年龄约29.70周岁，标准差为14.53，表明年龄分布较为分散，最大年龄乘客80岁，最小的不足1岁；有乘客最多带了8位家属（兄弟姐妹/配偶）登船，还有的乘客最多带了6位直系血亲（父母/子女）登船；这些乘客购买船票平均花费了约32.20货币单位，标准差49.69，表明不同乘客的船票开销差异较大。891人中仅342人生还，总体生还率约38.38%。"
   ]
  },
  {
   "cell_type": "code",
   "execution_count": 27,
   "metadata": {
    "collapsed": false,
    "deletable": true,
    "editable": true
   },
   "outputs": [
    {
     "data": {
      "text/plain": [
       "Age\n",
       "(0, 10]      64\n",
       "(10, 20]    115\n",
       "(20, 30]    230\n",
       "(30, 40]    155\n",
       "(40, 50]     86\n",
       "(50, 60]     42\n",
       "(60, 70]     17\n",
       "(70, 80]      5\n",
       "Name: PassengerId, dtype: int64"
      ]
     },
     "metadata": {},
     "output_type": "display_data"
    },
    {
     "name": "stdout",
     "output_type": "stream",
     "text": [
      "Passenger with maximum age: 1, passenger with minimum age: 1\n"
     ]
    },
    {
     "data": {
      "image/png": "[encoded data removed]",
      "text/plain": [
       "<matplotlib.figure.Figure at 0x7fd9e9308310>"
      ]
     },
     "metadata": {},
     "output_type": "display_data"
    }
   ],
   "source": [
    "display(titanic_df_age.groupby(pd.cut(titanic_df_age[\"Age\"], np.arange(0, 90, 10))).count()['PassengerId'])\n",
    "plt.title('Histogram of passengers age')\n",
    "titanic_df_age['Age'].hist(bins=8)\n",
    "# TODO: get all passengers that 80 years old, get all passengers <= 1 years old, observe survivation.\n",
    "max_age_survived = titanic_df_age.loc[titanic_df_age['Age'].idxmax()]['Survived']\n",
    "min_age_survived = titanic_df_age.loc[titanic_df_age['Age'].idxmin()]['Survived']\n",
    "print('Passenger with maximum age: {}, passenger with minimum age: {}'.format(max_age_survived, min_age_survived))"
   ]
  },
  {
   "cell_type": "markdown",
   "metadata": {
    "deletable": true,
    "editable": true
   },
   "source": [
    "## 2. 乘客的年龄分布大致情况，最大年龄和最小年龄的生还情况是怎样的？\n",
    "\n",
    "由于乘客最大年龄为80岁，最小不足1岁，所以从乘客年龄范围统计数据和直方图的角度观察数据，发现20岁以上30岁以下的乘客数量最多，达230人，其次是30岁以上40岁以下"
   ]
  },
  {
   "cell_type": "markdown",
   "metadata": {
    "deletable": true,
    "editable": true
   },
   "source": [
    "3. 不同年龄段乘客的生还情况和平均船票花费分别是怎样的？（年龄与生还率之间的关系）\n",
    "4. 不同客舱等级乘客的生还情况和平均船票花费分别是怎样的？（客舱等级与生还率之间的关系）\n",
    "5. 不同性别乘客的生还情况和平均船票花费分别是怎样的？（性别与生还率之间的关系）\n",
    "6. 有多少乘客是带着兄弟/配偶一同登船的？他们的平均年龄是多少？生还情况如何？（兄弟/配偶数量与生还率之间的关系）\n",
    "7. 进一步看，带着兄弟/配偶的男性乘客和带着兄弟/配偶的女性乘客各自的生还情况分别是怎样的？\n",
    "8. 有多少乘客是带着双亲/子女一同登船的？他们的平均年龄是多少？生还情况如何？（双亲/子女数量与生还率之间的关系）\n",
    "9. 带着双亲/子女的男性乘客和带着双亲/子女的女性乘客生还情况分别是怎样的？\n",
    "10. 有多少儿童乘客（0~15周岁）？性别分布情况如何？他们的生还情况如何？\n",
    "11. 有多少儿童乘客是带着父母一同登船的？他们的生还情况如何？\n",
    "12. 有多少儿童乘客是跟着保姆一起登船的？他们的生还情况如何？\n",
    "13. 登船的港口和生还率之间会不会存在一定相关性？"
   ]
  },
  {
   "cell_type": "markdown",
   "metadata": {
    "deletable": true,
    "editable": true
   },
   "source": [
    "四. 探索数据\n",
    "\n",
    "1. 一维数据分析\n",
    "\n",
    "2. 二维数据分析\n",
    "\n",
    "五. 得出结论\n",
    "\n",
    "要表明结论只是暂时的\n",
    "\n",
    "六. 沟通阶段\n",
    "\n",
    "七. 评分标准\n",
    "\n",
    "代码功能性\n",
    "\n",
    "代码是否正常运行？所有代码均有用且运行时不会产生错误。所给代码足够重现描述的结果。\n",
    "\n",
    "项目是否适当使用了 NumPy 和 Pandas？项目在适当情况下使用 NumPy 阵列和 Pandas 系列及 DataFrames，而非 Python 列表与字典。并在可能情况下使用矢量化操作和内置函数，而非循环。\n",
    "\n",
    "项目是否使用良好的编码实践？代码利用函数来避免重复代码。代码包含清晰的注释和变量名称，可读性较高。\n",
    "\n",
    "分析质量\n",
    "项目是否清楚地提出了问题？项目清楚地提出了一个或多个问题，然后在分析的其余部分解决了这些问题。\n",
    "\n",
    "数据整理阶段\n",
    "是否对数据清理进行了良好的记录？项目记录了为清理数据所做的所有变更，例如合并多个文件，处理丢失的值等。\n",
    "\n",
    "探索阶段\n",
    "是否采用多种方式探索数据？项目从多个角度调查所述问题。至少有三个变量使用单变量 (1d) 和多变量 (2d) 探索进行了调查。\n",
    "\n",
    "是否存在多种相关可视化和统计汇总？项目采用了多种可视化并展示了多项对比和趋势。分析中在进行与数据有关的推理时都会计算相关统计。至少应创建两种图作为探索的部分。\n",
    "\n",
    "结论阶段\n",
    "学员是否正确表明了结论只是暂时的？分析结果在展示时明确说明了存在的任何限制。分析并未表明或暗示一个变更完全基于相关性导致另一个变更。\n",
    "\n",
    "沟通阶段\n",
    "分析流程是否容易理解？每个分析决策、图和统计汇总均提供了推理说明。\n",
    "\n",
    "数据是否使用了适当的图和参数进行了可视化？项目的可视化采用适当的方式描述数据，所用的图容易解读。"
   ]
  },
  {
   "cell_type": "code",
   "execution_count": null,
   "metadata": {
    "collapsed": true,
    "deletable": true,
    "editable": true
   },
   "outputs": [],
   "source": []
  }
 ],
 "metadata": {
  "kernelspec": {
   "display_name": "Python 2",
   "language": "python",
   "name": "python2"
  },
  "language_info": {
   "codemirror_mode": {
    "name": "ipython",
    "version": 2
   },
   "file_extension": ".py",
   "mimetype": "text/x-python",
   "name": "python",
   "nbconvert_exporter": "python",
   "pygments_lexer": "ipython2",
   "version": "2.7.13"
  }
 },
 "nbformat": 4,
 "nbformat_minor": 2
}
